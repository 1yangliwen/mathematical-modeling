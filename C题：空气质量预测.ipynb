{
 "cells": [
  {
   "cell_type": "raw",
   "id": "a0b1792e",
   "metadata": {},
   "source": [
    "import pandas as pd\n",
    "\n",
    "# 读取污染物浓度数据（附件1）和气象数据（附件2）\n",
    "pollution_data = pd.read_csv(\"附件1：污染物浓度数据.csv\", encoding=\"utf-8\")\n",
    "weather_data = pd.read_csv(\"附件2：气象数据.csv\", encoding=\"utf-8\")\n",
    "\n",
    "# 将质量等级转换为数值型数据（独热编码）\n",
    "pollution_data = pd.concat([pollution_data, pd.get_dummies(pollution_data[\"质量等级\"])], axis=1)\n",
    "pollution_data.drop(\"质量等级\", axis=1, inplace=True)\n",
    "\n",
    "# 合并数据集\n",
    "merged_data = pollution_data.merge(weather_data, left_on=[\"年\", \"月\", \"日\"], right_on=[\"V04001\", \"V04002\", \"V04003\"])\n",
    "\n",
    "# 移除不需要的列\n",
    "merged_data.drop([\"年\", \"月\", \"日\", \"V04001\", \"V04002\", \"V04003\", \"V01301\"], axis=1, inplace=True)\n",
    "\n",
    "# 划分训练集和测试集\n",
    "train_data = merged_data.sample(frac=0.8, random_state=1)\n",
    "test_data = merged_data.drop(train_data.index)\n",
    "\n",
    "# 保存训练集和测试集到CSV文件\n",
    "train_data.to_csv(\"train_data.csv\", index=False, encoding=\"utf-8\")\n",
    "test_data.to_csv(\"test_data.csv\", index=False, encoding=\"utf-8\")"
   ]
  },
  {
   "cell_type": "code",
   "execution_count": 1,
   "id": "16671874",
   "metadata": {},
   "outputs": [],
   "source": [
    "import pandas as pd\n",
    "\n",
    "# 读取污染物浓度数据（附件1）和气象数据（附件2）\n",
    "pollution_data = pd.read_excel(\"附件1：污染物浓度数据.xlsx\", engine=\"openpyxl\")\n",
    "weather_data = pd.read_excel(\"附件2：气象数据.xlsx\", engine=\"openpyxl\")\n",
    "\n",
    "# # 将质量等级转换为数值型数据（独热编码）\n",
    "# all_categories = ['优', '良', '轻度污染', '中度污染', '重度污染', '严重污染']\n",
    "# pollution_data['质量等级'] = pd.Categorical(pollution_data['质量等级'], categories=all_categories)\n",
    "# pollution_data = pd.concat([pollution_data, pd.get_dummies(pollution_data[\"质量等级\"])], axis=1)\n",
    "# pollution_data.drop(\"质量等级\", axis=1, inplace=True)\n",
    "\n",
    "# 合并数据集\n",
    "merged_data = pollution_data.merge(weather_data, left_on=[\"年\", \"月\", \"日\"], right_on=[\"V04001\", \"V04002\", \"V04003\"])\n",
    "\n",
    "# 移除不需要的列\n",
    "merged_data.drop([\"年\", \"月\", \"日\", \"V04001\", \"V04002\", \"V04003\", \"V01301\",\"质量等级\",\"AQI\"], axis=1, inplace=True)\n",
    "\n",
    "# 删除包含缺失值的行\n",
    "merged_data.dropna(axis=0, inplace=True)\n",
    "\n",
    "# 划分训练集和测试集\n",
    "train_data = merged_data.sample(frac=0.8, random_state=1)\n",
    "test_data = merged_data.drop(train_data.index)\n",
    "\n",
    "# 保存训练集和测试集到CSV文件\n",
    "train_data.to_csv(\"train_data1.csv\", index=False, encoding=\"utf-8\")\n",
    "test_data.to_csv(\"test_data1.csv\", index=False, encoding=\"utf-8\")\n"
   ]
  },
  {
   "cell_type": "raw",
   "id": "2a44be34",
   "metadata": {},
   "source": [
    "%ls"
   ]
  },
  {
   "cell_type": "raw",
   "id": "ad200410",
   "metadata": {
    "scrolled": false
   },
   "source": [
    "# 读取 CSV 文件\n",
    "data = pd.read_csv('train_data1.csv', encoding='utf-8')\n",
    "# 您还可以选择显示前 n 行数据，例如显示前 10 行\n",
    "print(data.head(10))\n",
    "# 查看数据的形状（行数和列数）\n",
    "print(data.shape)\n",
    "# 查看数据的基本统计信息\n",
    "print(data.describe())"
   ]
  },
  {
   "cell_type": "code",
   "execution_count": 8,
   "id": "c88d1ded",
   "metadata": {},
   "outputs": [
    {
     "name": "stdout",
     "output_type": "stream",
     "text": [
      "RMSE: 11.355211237160107\n",
      "PM10: 0.7021186288751761\n",
      "O3: 0.009863808043710785\n",
      "SO2: 0.013809234740810961\n",
      "NO2: 0.016233448202952534\n",
      "CO: 0.1154627604332011\n",
      "V13305: 0.005273244505890729\n",
      "V10004_700: 0.01157091697600541\n",
      "V11291_700: 0.02166088345110405\n",
      "V12001_700: 0.08899860689584263\n",
      "V13003_700: 0.015008467875305699\n"
     ]
    }
   ],
   "source": [
    "from sklearn.ensemble import RandomForestRegressor\n",
    "from sklearn.model_selection import train_test_split\n",
    "from sklearn.metrics import mean_squared_error\n",
    "import numpy as np\n",
    "\n",
    "# 特征矩阵X，我们从merged_data中删除PM2.5列\n",
    "X_train = train_data.drop(\"PM2.5\", axis=1)\n",
    "# 目标向量y，即PM2.5值\n",
    "y_train = train_data[\"PM2.5\"]\n",
    "\n",
    "X_test = test_data.drop(\"PM2.5\", axis=1)\n",
    "y_test = test_data[\"PM2.5\"]\n",
    "\n",
    "#创建随机森林模型\n",
    "rf = RandomForestRegressor(n_estimators=100, random_state=43)\n",
    "#训练模型\n",
    "rf.fit(X_train, y_train)\n",
    "#使用模型预测测试集\n",
    "y_pred = rf.predict(X_test)\n",
    "#计算模型的均方根误差（RMSE）\n",
    "rmse = np.sqrt(mean_squared_error(y_test, y_pred))\n",
    "print(\"RMSE:\", rmse)\n",
    "#输出特征重要性\n",
    "feature_importances = rf.feature_importances_\n",
    "for feature, importance in zip(X_train.columns, feature_importances):\n",
    "    print(f\"{feature}: {importance}\")\n"
   ]
  },
  {
   "cell_type": "raw",
   "id": "a71f7c3a",
   "metadata": {},
   "source": [
    "!pip list"
   ]
  },
  {
   "cell_type": "code",
   "execution_count": 12,
   "id": "869fd384",
   "metadata": {},
   "outputs": [
    {
     "name": "stdout",
     "output_type": "stream",
     "text": [
      "Feature: PM10, Importance: 0.7021186288751761\n",
      "Feature: CO, Importance: 0.1154627604332011\n",
      "Feature: V12001_700, Importance: 0.08899860689584263\n",
      "Feature: V11291_700, Importance: 0.02166088345110405\n",
      "Feature: NO2, Importance: 0.016233448202952534\n",
      "Feature: V13003_700, Importance: 0.015008467875305699\n",
      "Feature: SO2, Importance: 0.013809234740810961\n",
      "Feature: V10004_700, Importance: 0.01157091697600541\n",
      "Feature: O3, Importance: 0.009863808043710785\n",
      "Feature: V13305, Importance: 0.005273244505890729\n"
     ]
    }
   ],
   "source": [
    "feature_names = list(X_train.columns)\n",
    "\n",
    "# 获取特征名称和对应的重要性值\n",
    "feature_importances = list(zip(feature_names, rf.feature_importances_))\n",
    "\n",
    "# 对特征重要性进行降序排序\n",
    "sorted_feature_importances = sorted(feature_importances, key=lambda x: x[1], reverse=True)\n",
    "\n",
    "# 输出排序后的特征名称和重要性值\n",
    "for feature, importance in sorted_feature_importances:\n",
    "    print(f\"Feature: {feature}, Importance: {importance}\")\n"
   ]
  },
  {
   "cell_type": "code",
   "execution_count": null,
   "id": "8496bc5a",
   "metadata": {},
   "outputs": [],
   "source": []
  }
 ],
 "metadata": {
  "kernelspec": {
   "display_name": "Python 3 (ipykernel)",
   "language": "python",
   "name": "python3"
  },
  "language_info": {
   "codemirror_mode": {
    "name": "ipython",
    "version": 3
   },
   "file_extension": ".py",
   "mimetype": "text/x-python",
   "name": "python",
   "nbconvert_exporter": "python",
   "pygments_lexer": "ipython3",
   "version": "3.11.2"
  }
 },
 "nbformat": 4,
 "nbformat_minor": 5
}
